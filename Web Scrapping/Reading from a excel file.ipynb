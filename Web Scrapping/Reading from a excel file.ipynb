{
 "cells": [
  {
   "cell_type": "code",
   "execution_count": 1,
   "metadata": {
    "collapsed": true
   },
   "outputs": [],
   "source": [
    "import xlrd"
   ]
  },
  {
   "cell_type": "code",
   "execution_count": 2,
   "metadata": {
    "collapsed": true
   },
   "outputs": [],
   "source": [
    "#open workbook\n",
    "workbook = xlrd.open_workbook('first.xlsx')"
   ]
  },
  {
   "cell_type": "code",
   "execution_count": 3,
   "metadata": {
    "collapsed": true
   },
   "outputs": [],
   "source": [
    "#get the sheet\n",
    "worksheet = workbook.sheet_by_index(0)"
   ]
  },
  {
   "cell_type": "code",
   "execution_count": 5,
   "metadata": {},
   "outputs": [],
   "source": [
    "#get the rows\n",
    "rows = worksheet.nrows"
   ]
  },
  {
   "cell_type": "code",
   "execution_count": 10,
   "metadata": {},
   "outputs": [
    {
     "name": "stdout",
     "output_type": "stream",
     "text": [
      "nope   0.0\n",
      "nope   1.0\n",
      "nope   2.0\n",
      "nope   3.0\n",
      "nope   4.0\n",
      "nope   5.0\n",
      "nope   6.0\n",
      "nope   7.0\n",
      "nope   8.0\n",
      "nope   9.0\n",
      "nope   10.0\n",
      "nope   11.0\n",
      "nope   12.0\n",
      "nope   13.0\n",
      "nope   14.0\n",
      "nope   15.0\n",
      "nope   16.0\n",
      "nope   17.0\n",
      "nope   18.0\n",
      "nope   19.0\n"
     ]
    }
   ],
   "source": [
    "# read rows using row_values(row number) which returns a tuple\n",
    "for row in range(rows):\n",
    "    col1,col2 = worksheet.row_values(row)\n",
    "    print col1,' ',col2"
   ]
  },
  {
   "cell_type": "code",
   "execution_count": 12,
   "metadata": {},
   "outputs": [
    {
     "name": "stdout",
     "output_type": "stream",
     "text": [
      "http://www.iana.org/domains/example\n"
     ]
    }
   ],
   "source": []
  },
  {
   "cell_type": "code",
   "execution_count": null,
   "metadata": {
    "collapsed": true
   },
   "outputs": [],
   "source": []
  }
 ],
 "metadata": {
  "kernelspec": {
   "display_name": "Python 2",
   "language": "python",
   "name": "python2"
  },
  "language_info": {
   "codemirror_mode": {
    "name": "ipython",
    "version": 2
   },
   "file_extension": ".py",
   "mimetype": "text/x-python",
   "name": "python",
   "nbconvert_exporter": "python",
   "pygments_lexer": "ipython2",
   "version": "2.7.13"
  }
 },
 "nbformat": 4,
 "nbformat_minor": 2
}
